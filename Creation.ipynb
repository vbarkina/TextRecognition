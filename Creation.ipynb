{
 "cells": [
  {
   "cell_type": "code",
   "execution_count": 5,
   "metadata": {},
   "outputs": [],
   "source": [
    "import numpy as np\n",
    "import string\n",
    "from PIL import Image, ImageFont, ImageDraw\n",
    "\n",
    "def MakeImg(t, f, fn, s = (100, 100), o = (16, 8)):\n",
    "    '''\n",
    "    Generate an image of text\n",
    "    t:      The text to display in the image\n",
    "    f:      The font to use\n",
    "    fn:     The file name\n",
    "    s:      The image size\n",
    "    o:      The offest of the text in the image\n",
    "    '''\n",
    "    img = Image.new('RGB', s, \"black\")\n",
    "    draw = ImageDraw.Draw(img)\n",
    "    draw.text(OFS, t, (255, 255, 255), font = f)\n",
    "    img.save(fn)\n",
    "\n",
    "#The possible characters to use\n",
    "CS = list(string.ascii_letters) + list(string.digits)\n",
    "RTS = list(np.random.randint(10, 64, size = 10)) + [64]\n",
    "#8192\n",
    "#The random strings\n",
    "S = [''.join(np.random.choice(CS, i)) for i in RTS]\n",
    "#Get the font\n",
    "font = ImageFont.truetype(\"LiberationMono-Regular.ttf\", 16)\n",
    "#The largest size needed\n",
    "MS = max(font.getsize(Si) for Si in S)\n",
    "#Computed offset\n",
    "OFS = ((640 - MS[0]) // 2, (32 - MS[1]) // 2)\n",
    "#Image size\n",
    "MS = (640, 32)\n",
    "Y = []\n",
    "for i, Si in enumerate(S):\n",
    "    MakeImg(Si, font, str(i) + '.png', MS, OFS)\n",
    "    Y.append(str(i) + '.png,' + Si)\n",
    "#Write CSV file\n",
    "with open('Train.csv', 'w') as F:\n",
    "    F.write('\\n'.join(Y))"
   ]
  },
  {
   "cell_type": "code",
   "execution_count": null,
   "metadata": {},
   "outputs": [],
   "source": []
  }
 ],
 "metadata": {
  "kernelspec": {
   "display_name": "Python 3",
   "language": "python",
   "name": "python3"
  },
  "language_info": {
   "codemirror_mode": {
    "name": "ipython",
    "version": 3
   },
   "file_extension": ".py",
   "mimetype": "text/x-python",
   "name": "python",
   "nbconvert_exporter": "python",
   "pygments_lexer": "ipython3",
   "version": "3.7.4"
  }
 },
 "nbformat": 4,
 "nbformat_minor": 2
}
